{
  "cells": [
    {
      "cell_type": "markdown",
      "metadata": {
        "id": "view-in-github",
        "colab_type": "text"
      },
      "source": [
        "<a href=\"https://colab.research.google.com/github/Leostark95/Introduccion_IA/blob/main/lab_06_02_nmf_face_search.ipynb\" target=\"_parent\"><img src=\"https://colab.research.google.com/assets/colab-badge.svg\" alt=\"Open In Colab\"/></a>"
      ]
    },
    {
      "cell_type": "markdown",
      "metadata": {
        "id": "TEx4rafMFJfC"
      },
      "source": [
        "# LAB 06.02 - NMF face search"
      ]
    },
    {
      "cell_type": "code",
      "execution_count": null,
      "metadata": {
        "colab": {
          "base_uri": "https://localhost:8080/",
          "height": 76
        },
        "id": "4t4xB021FJfJ",
        "outputId": "793ea6c5-5ed9-48a8-c0df-adce6d212e31"
      },
      "outputs": [
        {
          "output_type": "display_data",
          "data": {
            "text/plain": [
              "<IPython.core.display.HTML object>"
            ],
            "text/html": [
              "\n",
              "<meta name=\"google-signin-client_id\"\n",
              "      content=\"461673936472-kdjosv61up3ac1ajeuq6qqu72upilmls.apps.googleusercontent.com\"/>\n",
              "<script src=\"https://apis.google.com/js/client:platform.js?onload=google_button_start\"></script>\n",
              "    "
            ]
          },
          "metadata": {}
        },
        {
          "output_type": "stream",
          "name": "stdout",
          "text": [
            "replicating local resources\n"
          ]
        },
        {
          "output_type": "execute_result",
          "data": {
            "text/plain": [
              "<IPython.core.display.HTML object>"
            ],
            "text/html": [
              "<h3>See <a href='https://m5knaekxo6.execute-api.us-west-2.amazonaws.com/dev-v0001/rlxmooc/web/login' target='_blank'>my courses and progress</a></h2>"
            ]
          },
          "metadata": {},
          "execution_count": 1
        }
      ],
      "source": [
        "!wget --no-cache -O init.py -q https://raw.githubusercontent.com/rramosp/ai4eng.v1/main/content/init.py\n",
        "import init; init.init(force_download=False); init.get_weblink()\n"
      ]
    },
    {
      "cell_type": "code",
      "execution_count": null,
      "metadata": {
        "colab": {
          "base_uri": "https://localhost:8080/",
          "height": 93,
          "referenced_widgets": [
            "0f5baf86ddc14861b72fea7c3263cdd1",
            "72684770f3c845f092caf4a768979f2f",
            "7dae65e861ea42ba87a8a3cc5a6f7582",
            "34f8700da9884be2b5ab276485bb8f83",
            "987ab40b9a584ff4ad4eb21e3669d635",
            "0543951f2bc146dbb3f5b611ffc6d938",
            "1fefc696b5e54c75b87b996f4f81e636",
            "2b83d8b06f144ed38aef38d63bed6777",
            "09a457c7a1734b098adfbfce36a23ac9",
            "c80725db0fca444598226dc3cbc0a185",
            "b7194fe4dff4427ea319332414c4e19d",
            "4565c5b919994c70945a0c1c31b68e71",
            "7bc63257ba1442bba8c7b8676961f59e",
            "5b9b4a590de54c4a883f0468604cbfaf",
            "a4c5d7cef4d94bb2aecb61f25c6c2bbf",
            "624f24ae14d74bf998239fca0ed60f45",
            "658ae9eca73d492b9bb1f1f9132090ed",
            "015f14fa7d054eb8b4f22d46ce56782a",
            "aa699a64379a4a0a931ff9a80c93ac41"
          ]
        },
        "id": "Opt6lWTrFJfN",
        "outputId": "acffa84d-d8f8-4b20-a054-72c7e84d2fb1"
      },
      "outputs": [
        {
          "output_type": "stream",
          "name": "stdout",
          "text": [
            "logging in as alexander.amaya@udea.edu.co... please wait\n",
            "\n",
            "-------------\n",
            "using course session ai4eng.v1.udea.r3::2024.2\n",
            "success!! you are logged in\n",
            "-------------\n"
          ]
        }
      ],
      "source": [
        "from local.lib.rlxmoocapi import submit, session\n",
        "session.LoginSequence(endpoint=init.endpoint, course_id=init.course_id, lab_id=\"L06.02\", varname=\"student\");"
      ]
    },
    {
      "cell_type": "markdown",
      "metadata": {
        "id": "4MuWhP81FJfP"
      },
      "source": [
        "## Dataset\n",
        "\n",
        "we will use the faces dataset"
      ]
    },
    {
      "cell_type": "code",
      "execution_count": null,
      "metadata": {
        "id": "H9AC0YE7FJfR"
      },
      "outputs": [],
      "source": [
        "import pandas as pd\n",
        "import numpy as np\n",
        "import matplotlib.pyplot as plt\n",
        "from IPython.display import Image\n",
        "%matplotlib inline"
      ]
    },
    {
      "cell_type": "code",
      "execution_count": null,
      "metadata": {
        "colab": {
          "base_uri": "https://localhost:8080/"
        },
        "id": "XDQ4aIJwFJfR",
        "outputId": "20a92034-6585-4757-f158-5ffffe882b0c"
      },
      "outputs": [
        {
          "output_type": "execute_result",
          "data": {
            "text/plain": [
              "(535, 361)"
            ]
          },
          "metadata": {},
          "execution_count": 4
        }
      ],
      "source": [
        "\n",
        "import numpy as np\n",
        "faces = np.load(\"local/data/faces.npy\")\n",
        "faces.shape\n"
      ]
    },
    {
      "cell_type": "code",
      "execution_count": null,
      "metadata": {
        "id": "IkjPuQyMFJfT"
      },
      "outputs": [],
      "source": [
        "def plot_faces(faces):\n",
        "    assert len(faces)<=30, \"can only plot at most 30 faces\"\n",
        "    plt.figure(figsize=(15,2))\n",
        "    for i in range(len(faces)):\n",
        "        plt.subplot(2,15,i+1)\n",
        "        plt.imshow(faces[i].reshape(19,19), cmap=plt.cm.Greys_r)\n",
        "        plt.xticks([]); plt.yticks([])"
      ]
    },
    {
      "cell_type": "code",
      "execution_count": null,
      "metadata": {
        "colab": {
          "base_uri": "https://localhost:8080/",
          "height": 121
        },
        "id": "CiBCM6pAFJfU",
        "outputId": "bf783733-c3b1-4f7d-e864-c6e8c8a2351a"
      },
      "outputs": [
        {
          "output_type": "display_data",
          "data": {
            "text/plain": [
              "<Figure size 1500x200 with 30 Axes>"
            ],
            "image/png": "[encoded data removed]"
          },
          "metadata": {}
        }
      ],
      "source": [
        "\n",
        "plot_faces(np.random.permutation(faces)[:30])\n"
      ]
    },
    {
      "cell_type": "markdown",
      "metadata": {
        "id": "Wzfy-oCIFJfX"
      },
      "source": [
        "## Task 1: Distance function for a vector\n",
        "\n",
        "complete the following function so that given a vector $v \\in \\mathbb{R}^n$ and a `numpy` array $X \\in \\mathbb{R}^{m\\times n}$ (whose rows are vectors of the same size as $v$) returns a new array $\\in \\mathbb{R}^m$ with the Euclidean distance between $v$ and each vector in $X$.\n",
        "\n",
        "Recall that the Euclidean distance between vectors $z=[z_0,...z_{n-1}]$ and $w=[w_0,...,w_{n-1}]$ is given by\n",
        "\n",
        "$$\\text{distance}(z,w) = \\sqrt{\\sum_{i=0}^{n-1} (z_i-w_i)^2}$$\n",
        "\n",
        "\n",
        "**hint**: use [`np.linalg.norm`](https://numpy.org/doc/stable/reference/generated/numpy.linalg.norm.html) to compute a distance between two vectors\n",
        "\n",
        "**challenge**: solve it using one line of code.\n",
        "\n",
        "**note**: your function must return a 1D numpy array of dimension $m$, not a list.\n",
        "\n",
        "for instance, for the following values of $v$ and $X$\n",
        "\n",
        "    X = array([[9, 5, 1, 3, 8, 3, 3, 3, 9, 2],\n",
        "               [9, 7, 0, 7, 9, 1, 4, 7, 3, 6],\n",
        "               [8, 0, 0, 5, 0, 5, 5, 1, 1, 5],\n",
        "               [8, 2, 9, 5, 6, 0, 8, 7, 2, 8],\n",
        "               [0, 6, 3, 0, 6, 6, 1, 2, 8, 0]])\n",
        "                  \n",
        "    v = np.array([9, 7, 0, 7, 9, 1, 4, 7, 3, 6])\n",
        "\n",
        "\n",
        "you should get the following result\n",
        "\n",
        "    array([ 9.74679434,  0.        , 13.89244399, 11.91637529, 16.40121947])\n"
      ]
    },
    {
      "cell_type": "code",
      "source": [
        "X = np.array([[9, 5, 1, 3, 8, 3, 3, 3, 9, 2],\n",
        "           [9, 7, 0, 7, 9, 1, 4, 7, 3, 6],\n",
        "           [8, 0, 0, 5, 0, 5, 5, 1, 1, 5],\n",
        "           [8, 2, 9, 5, 6, 0, 8, 7, 2, 8],\n",
        "           [0, 6, 3, 0, 6, 6, 1, 2, 8, 0]])\n",
        "\n",
        "v = np.array([9, 7, 0, 7, 9, 1, 4, 7, 3, 6])\n",
        "\n",
        "print(v[0])\n",
        "print(X[0][0])"
      ],
      "metadata": {
        "colab": {
          "base_uri": "https://localhost:8080/"
        },
        "id": "HiTius9OFwos",
        "outputId": "59efe2f0-dcd7-474c-f873-f6080d24f895"
      },
      "execution_count": null,
      "outputs": [
        {
          "output_type": "stream",
          "name": "stdout",
          "text": [
            "9\n",
            "9\n"
          ]
        }
      ]
    },
    {
      "cell_type": "code",
      "execution_count": null,
      "metadata": {
        "id": "kR_f5yoBFJfY"
      },
      "outputs": [],
      "source": [
        "def distances(X, v):\n",
        "    return np.sqrt(np.sum((X - v)**2, axis=1))"
      ]
    },
    {
      "cell_type": "markdown",
      "metadata": {
        "id": "ex139ujIFJfZ"
      },
      "source": [
        "check manually your code"
      ]
    },
    {
      "cell_type": "code",
      "execution_count": null,
      "metadata": {
        "scrolled": true,
        "colab": {
          "base_uri": "https://localhost:8080/"
        },
        "id": "gNLWDtPaFJfZ",
        "outputId": "49f344f2-abe5-46de-c281-01b6e4e1c139"
      },
      "outputs": [
        {
          "output_type": "stream",
          "name": "stdout",
          "text": [
            "X=\n",
            " [[9 2 1 1 1 0 7 8 2 4]\n",
            " [4 6 6 8 8 7 5 4 4 0]\n",
            " [0 3 2 6 4 6 0 7 7 4]\n",
            " [7 4 6 7 3 9 4 3 9 5]\n",
            " [8 6 3 0 3 7 5 7 4 9]]\n",
            "\n",
            "v= [4 6 6 8 8 7 5 4 4 0]\n"
          ]
        },
        {
          "output_type": "execute_result",
          "data": {
            "text/plain": [
              "array([15.90597372,  0.        , 11.        ,  9.74679434, 14.28285686])"
            ]
          },
          "metadata": {},
          "execution_count": 9
        }
      ],
      "source": [
        "X = np.random.randint(10, size=(5,10))\n",
        "v = X[1]\n",
        "\n",
        "print (\"X=\\n\", X)\n",
        "print (\"\\nv=\", v)\n",
        "distances(v, X)"
      ]
    },
    {
      "cell_type": "code",
      "source": [
        "X = np.array([[1, 5, 1, 4, 8],\n",
        "              [9, 7, 0, 7, 9],\n",
        "              [0, 6, 3, 0, 6]])\n",
        "v = np.array([9, 7, 0, 7, 9])"
      ],
      "metadata": {
        "id": "1bILMF08F5--"
      },
      "execution_count": null,
      "outputs": []
    },
    {
      "cell_type": "code",
      "source": [
        "distances(v,X)"
      ],
      "metadata": {
        "colab": {
          "base_uri": "https://localhost:8080/"
        },
        "id": "nFX0izxDF8Je",
        "outputId": "5b4ab5e7-f3ec-4a32-e33d-b3842757494f"
      },
      "execution_count": null,
      "outputs": [
        {
          "output_type": "execute_result",
          "data": {
            "text/plain": [
              "array([ 8.88819442,  0.        , 12.20655562])"
            ]
          },
          "metadata": {},
          "execution_count": 11
        }
      ]
    },
    {
      "cell_type": "markdown",
      "metadata": {
        "id": "7ldrLdwuFJfd"
      },
      "source": [
        "**submit your code**"
      ]
    },
    {
      "cell_type": "code",
      "execution_count": null,
      "metadata": {
        "scrolled": true,
        "colab": {
          "base_uri": "https://localhost:8080/",
          "height": 195
        },
        "id": "nKKZ2EWLFJfe",
        "outputId": "9c75d2d5-7ad2-46b7-c362-35c13fd7ff8e"
      },
      "outputs": [
        {
          "output_type": "display_data",
          "data": {
            "text/plain": [
              "<IPython.core.display.HTML object>"
            ],
            "text/html": [
              "\n",
              "                    <b>task_01 submitted.</b> <b><font color=\"blue\">your grade is 5</font></b> \n",
              "                    <p/><pre>----- grader message -------</pre><br/>testing with 100 random calls<br/><br/><b>correct</b><pre>----------------------------</pre>\n",
              "                    <p/><p/>\n",
              "                    <div style=\"font-size:10px\"><b>SUBMISSION CODE</b> jG7WF+Cahj2Z6b4FEmImoOtEHfvAVueGgdR1y3mOp/niuZOYkFG75AGuJVVKnFU2Yp93EW4Xraz4hxePgTLIaDTjK6vDMlIKTh+KAUEaT899gW94EUGYDtM4cxR/Yz7X6R3Bjo2v7hS/BVQwa1EuB3OOW7/7ePUpWKOMPQMAJKw=</div>\n",
              "                    "
            ]
          },
          "metadata": {}
        }
      ],
      "source": [
        "student.submit_task(globals(), task_id=\"task_01\");"
      ]
    },
    {
      "cell_type": "code",
      "execution_count": null,
      "metadata": {
        "id": "7fkqTnOxFJff"
      },
      "outputs": [],
      "source": []
    },
    {
      "cell_type": "code",
      "execution_count": null,
      "metadata": {
        "id": "m69E7qycFJff"
      },
      "outputs": [],
      "source": []
    },
    {
      "cell_type": "code",
      "execution_count": null,
      "metadata": {
        "id": "SI2j6-9MFJff"
      },
      "outputs": [],
      "source": []
    },
    {
      "cell_type": "code",
      "execution_count": null,
      "metadata": {
        "id": "S42t7oCrFJff"
      },
      "outputs": [],
      "source": []
    },
    {
      "cell_type": "markdown",
      "metadata": {
        "id": "0TtMGkQLFJfg"
      },
      "source": [
        "## Task 2: Positions of closest vectors\n",
        "\n",
        "complete the following function so that given $v$ and $X$ as previously, returns the positions of the $n$ closest vectors to $v$ in $X$.\n",
        "\n",
        "**hint**: use the [`np.argsort`](https://numpy.org/doc/stable/reference/generated/numpy.argsort.html) function\n",
        "\n",
        "**challenge**: solve it using one line of code\n",
        "\n",
        "for the example $v$ and $X$ above you should get the following outputs\n",
        "\n",
        "    >> closest(v, X, 2)\n",
        "    array([1, 0])\n",
        "\n",
        "    >> closest(v, X, 3)\n",
        "    array([1, 0, 3])\n"
      ]
    },
    {
      "cell_type": "code",
      "execution_count": null,
      "metadata": {
        "id": "znd8i9VHFJfg"
      },
      "outputs": [],
      "source": [
        "def closest(v, X, n):\n",
        "\n",
        "  def distances(X, v):\n",
        "    return np.sqrt(np.sum((X - v)**2, axis=1))\n",
        "\n",
        "  distancias = distances(v, X)\n",
        "  return np.argsort(distancias)[:n]"
      ]
    },
    {
      "cell_type": "markdown",
      "metadata": {
        "id": "NE_UK7ncFJfg"
      },
      "source": [
        "check manually your code"
      ]
    },
    {
      "cell_type": "code",
      "execution_count": null,
      "metadata": {
        "colab": {
          "base_uri": "https://localhost:8080/"
        },
        "id": "9z3gfP_wFJfg",
        "outputId": "6be7ab1c-6ce9-4096-f06a-ba09a9767fcf"
      },
      "outputs": [
        {
          "output_type": "stream",
          "name": "stdout",
          "text": [
            "X=\n",
            " [[2 2 6 5 6 9 6 5 8 9]\n",
            " [7 9 4 5 4 0 0 8 9 4]\n",
            " [5 8 4 9 7 3 7 1 7 9]\n",
            " [2 2 8 8 4 4 3 8 7 7]\n",
            " [0 5 0 0 8 4 2 0 5 5]]\n",
            "\n",
            "v= [7 9 4 5 4 0 0 8 9 4] \n",
            "\n",
            "\n",
            "[1 3]\n",
            "[1 3 2]\n"
          ]
        }
      ],
      "source": [
        "X = np.random.randint(10, size=(5,10))\n",
        "v = X[1]\n",
        "\n",
        "print (\"X=\\n\", X)\n",
        "print (\"\\nv=\", v,\"\\n\\n\")\n",
        "print (closest(v, X, 2))\n",
        "print (closest(v, X, 3))"
      ]
    },
    {
      "cell_type": "markdown",
      "metadata": {
        "id": "ETU0rS8PFJfh"
      },
      "source": [
        "### observe now how we can use your functions to search for faces similar to any other face"
      ]
    },
    {
      "cell_type": "code",
      "execution_count": null,
      "metadata": {
        "colab": {
          "base_uri": "https://localhost:8080/",
          "height": 159
        },
        "id": "40OH86pQFJfh",
        "outputId": "c33660b8-b3cd-4aa8-bdb7-280273470a9b"
      },
      "outputs": [
        {
          "output_type": "stream",
          "name": "stdout",
          "text": [
            "TARGET FACE\n"
          ]
        },
        {
          "output_type": "display_data",
          "data": {
            "text/plain": [
              "<Figure size 100x100 with 1 Axes>"
            ],
            "image/png": "[encoded data removed]"
          },
          "metadata": {}
        }
      ],
      "source": [
        "\n",
        "plt.figure(figsize=(1,1))\n",
        "fi = 314 # np.random.randint(len(faces)) # 314\n",
        "face = faces[fi]\n",
        "plt.imshow(faces[fi].reshape(19,19), cmap=plt.cm.Greys_r)\n",
        "print (\"TARGET FACE\")\n"
      ]
    },
    {
      "cell_type": "code",
      "execution_count": null,
      "metadata": {
        "colab": {
          "base_uri": "https://localhost:8080/",
          "height": 140
        },
        "id": "oXBBYKK-FJfh",
        "outputId": "65a969fa-18ce-4233-b91a-47b2cd33f662"
      },
      "outputs": [
        {
          "output_type": "stream",
          "name": "stdout",
          "text": [
            "SIMILAR FACES\n"
          ]
        },
        {
          "output_type": "display_data",
          "data": {
            "text/plain": [
              "<Figure size 1500x200 with 30 Axes>"
            ],
            "image/png": "[encoded data removed]"
          },
          "metadata": {}
        }
      ],
      "source": [
        "\n",
        "plot_faces(faces[closest(face, faces, 30)])\n",
        "print (\"SIMILAR FACES\")\n"
      ]
    },
    {
      "cell_type": "markdown",
      "metadata": {
        "id": "Mix1frmJFJfi"
      },
      "source": [
        "But they do not look so similar, this is because we are doing comparison **pixel by pixel**. We will fix this in the next task"
      ]
    },
    {
      "cell_type": "code",
      "execution_count": null,
      "metadata": {
        "id": "G0AVKLVPFJfi"
      },
      "outputs": [],
      "source": []
    },
    {
      "cell_type": "markdown",
      "metadata": {
        "id": "vPtNKIzeFJfi"
      },
      "source": [
        "**submit your code**"
      ]
    },
    {
      "cell_type": "code",
      "execution_count": null,
      "metadata": {
        "scrolled": false,
        "colab": {
          "base_uri": "https://localhost:8080/",
          "height": 195
        },
        "id": "eBTMbBPYFJfi",
        "outputId": "67ff0955-e239-4007-9228-771391aa54ea"
      },
      "outputs": [
        {
          "output_type": "display_data",
          "data": {
            "text/plain": [
              "<IPython.core.display.HTML object>"
            ],
            "text/html": [
              "\n",
              "                    <b>task_02 submitted.</b> <b><font color=\"blue\">your grade is 5</font></b> \n",
              "                    <p/><pre>----- grader message -------</pre><br/>testing with 100 random calls<br/><br/><b>correct</b><pre>----------------------------</pre>\n",
              "                    <p/><p/>\n",
              "                    <div style=\"font-size:10px\"><b>SUBMISSION CODE</b> Ct0HgHRngNgC3ju3WNiPUSWJhrOibmiOi+tLciKJ8gYQvoPCH9+P0Xz+gmaTzK4ZZMcxYw/tH64DmcV0trM01dLtcKL0QoXFkZhPliSjYbM5hLC01a09oDuRFNDcU1fH2tvB05DQgulySUKUaWpgxWZcgeBYMvpJdCxZVESO7Ro=</div>\n",
              "                    "
            ]
          },
          "metadata": {}
        }
      ],
      "source": [
        "student.submit_task(globals(), task_id=\"task_02\");"
      ]
    },
    {
      "cell_type": "code",
      "execution_count": null,
      "metadata": {
        "id": "qM64PgfXFJfi"
      },
      "outputs": [],
      "source": []
    },
    {
      "cell_type": "markdown",
      "metadata": {
        "id": "SNiR9IhEFJfj"
      },
      "source": [
        "## Task 3: Use NMF to find similar faces\n",
        "\n",
        "Make the comparison in the faces space resulting from transforming them using NMF. For this you have to:\n",
        "\n",
        "- create an instance of NMF with `n_components=30, init=\"random\", random_state=0`\n",
        "- fit the instance with $X$\n",
        "- transform $X$\n",
        "- transform $v$\n",
        "- return the positions of closest $n$ vectors in the transformed $X$ to the transformed $v$\n",
        "\n",
        "For the target face above, you should get the following"
      ]
    },
    {
      "cell_type": "code",
      "execution_count": null,
      "metadata": {
        "colab": {
          "base_uri": "https://localhost:8080/",
          "height": 123
        },
        "id": "CQzxD-xRFJfj",
        "outputId": "a108f929-2b93-4af0-b307-5edc9ff59cb8"
      },
      "outputs": [
        {
          "output_type": "execute_result",
          "data": {
            "image/png": "[encoded data removed]",
            "text/plain": [
              "<IPython.core.display.Image object>"
            ]
          },
          "metadata": {},
          "execution_count": 18
        }
      ],
      "source": [
        "\n",
        "from IPython.display import Image\n",
        "Image(filename='local/imgs/similar-images2.png')\n"
      ]
    },
    {
      "cell_type": "code",
      "execution_count": null,
      "metadata": {
        "id": "JVGvxYsvFJfk"
      },
      "outputs": [],
      "source": [
        "import numpy as np\n",
        "from sklearn.decomposition import NMF\n",
        "\n",
        "def find_similar(v, X, n):\n",
        "    import numpy as np\n",
        "    from sklearn.decomposition import NMF\n",
        "    nmf = NMF(n_components=30, init=\"random\", random_state=0)\n",
        "    nmf.fit(X)\n",
        "    Xt = nmf.transform(X)\n",
        "    vt = nmf.transform(v.reshape(1,-1))\n",
        "\n",
        "    def closest(v, X, n):\n",
        "        def distances(X, v):\n",
        "            return np.sqrt(np.sum((X - v)**2, axis=1))\n",
        "\n",
        "        distancias = distances(Xt, vt)\n",
        "        return np.argsort(distancias)[:n]\n",
        "\n",
        "    result = closest(vt, Xt, n)\n",
        "    return result"
      ]
    },
    {
      "cell_type": "markdown",
      "metadata": {
        "id": "PMmEd1Y4FJfl"
      },
      "source": [
        "check manually your answer"
      ]
    },
    {
      "cell_type": "code",
      "execution_count": null,
      "metadata": {
        "colab": {
          "base_uri": "https://localhost:8080/",
          "height": 178
        },
        "id": "EsJ2J0OfFJfl",
        "outputId": "76559292-0a4c-4c6e-f112-f69c94f756ec"
      },
      "outputs": [
        {
          "output_type": "stream",
          "name": "stderr",
          "text": [
            "/usr/local/lib/python3.10/dist-packages/sklearn/decomposition/_nmf.py:1759: ConvergenceWarning: Maximum number of iterations 200 reached. Increase it to improve convergence.\n",
            "  warnings.warn(\n"
          ]
        },
        {
          "output_type": "display_data",
          "data": {
            "text/plain": [
              "<Figure size 1500x200 with 30 Axes>"
            ],
            "image/png": "[encoded data removed]"
          },
          "metadata": {}
        }
      ],
      "source": [
        "\n",
        "plot_faces(faces[find_similar(face, faces, 30)])\n"
      ]
    },
    {
      "cell_type": "markdown",
      "metadata": {
        "id": "49z7ZfthFJfm"
      },
      "source": [
        "**submit your code**"
      ]
    },
    {
      "cell_type": "code",
      "execution_count": null,
      "metadata": {
        "scrolled": false,
        "colab": {
          "base_uri": "https://localhost:8080/",
          "height": 195
        },
        "id": "UuXk4316FJfn",
        "outputId": "c35b0f41-be2e-4665-ce0c-c10e20b674e1"
      },
      "outputs": [
        {
          "output_type": "display_data",
          "data": {
            "text/plain": [
              "<IPython.core.display.HTML object>"
            ],
            "text/html": [
              "\n",
              "                    <b>task_03 submitted.</b> <b><font color=\"blue\">your grade is 5</font></b> \n",
              "                    <p/><pre>----- grader message -------</pre><br/>testing with 100 random calls<br/><br/><b>correct</b><pre>----------------------------</pre>\n",
              "                    <p/><p/>\n",
              "                    <div style=\"font-size:10px\"><b>SUBMISSION CODE</b> +zOqpmECT8gBnOL6WIOFmjBvJUb5jOMaqLzUd4ScHQPDMvSd1IuUUNFXX7w813STIkadYkgp4K1ddlTJkw5PngwRP7Eozkbi7/bs7BjHfQaToxRZj8UQQQcti3zf8fGEnrAAC0GKUkqSR9XPiWLzYYhk9vsZPQyAYHzrYsVtCbE=</div>\n",
              "                    "
            ]
          },
          "metadata": {}
        }
      ],
      "source": [
        "student.submit_task(globals(), task_id=\"task_03\");"
      ]
    },
    {
      "cell_type": "code",
      "execution_count": null,
      "metadata": {
        "id": "XZtnQYLCFJfn"
      },
      "outputs": [],
      "source": []
    },
    {
      "cell_type": "code",
      "execution_count": null,
      "metadata": {
        "id": "38WISurLFJfn"
      },
      "outputs": [],
      "source": []
    }
  ],
  "metadata": {
    "kernelspec": {
      "display_name": "Python 3",
      "language": "python",
      "name": "python3"
    },
    "language_info": {
      "codemirror_mode": {
        "name": "ipython",
        "version": 3
      },
      "file_extension": ".py",
      "mimetype": "text/x-python",
      "name": "python",
      "nbconvert_exporter": "python",
      "pygments_lexer": "ipython3",
      "version": "3.7.3"
    },
    "colab": {
      "provenance": [],
      "include_colab_link": true
    },
    "widgets": {
      "application/vnd.jupyter.widget-state+json": {
        "0f5baf86ddc14861b72fea7c3263cdd1": {
          "model_module": "@jupyter-widgets/controls",
          "model_name": "HBoxModel",
          "model_module_version": "1.5.0",
          "state": {
            "_dom_classes": [],
            "_model_module": "@jupyter-widgets/controls",
            "_model_module_version": "1.5.0",
            "_model_name": "HBoxModel",
            "_view_count": null,
            "_view_module": "@jupyter-widgets/controls",
            "_view_module_version": "1.5.0",
            "_view_name": "HBoxView",
            "box_style": "",
            "children": [
              "IPY_MODEL_72684770f3c845f092caf4a768979f2f",
              "IPY_MODEL_7dae65e861ea42ba87a8a3cc5a6f7582",
              "IPY_MODEL_34f8700da9884be2b5ab276485bb8f83",
              "IPY_MODEL_987ab40b9a584ff4ad4eb21e3669d635"
            ],
            "layout": "IPY_MODEL_0543951f2bc146dbb3f5b611ffc6d938"
          }
        },
        "72684770f3c845f092caf4a768979f2f": {
          "model_module": "@jupyter-widgets/controls",
          "model_name": "VBoxModel",
          "model_module_version": "1.5.0",
          "state": {
            "_dom_classes": [],
            "_model_module": "@jupyter-widgets/controls",
            "_model_module_version": "1.5.0",
            "_model_name": "VBoxModel",
            "_view_count": null,
            "_view_module": "@jupyter-widgets/controls",
            "_view_module_version": "1.5.0",
            "_view_name": "VBoxView",
            "box_style": "",
            "children": [
              "IPY_MODEL_1fefc696b5e54c75b87b996f4f81e636",
              "IPY_MODEL_2b83d8b06f144ed38aef38d63bed6777"
            ],
            "layout": "IPY_MODEL_09a457c7a1734b098adfbfce36a23ac9"
          }
        },
        "7dae65e861ea42ba87a8a3cc5a6f7582": {
          "model_module": "@jupyter-widgets/controls",
          "model_name": "ButtonModel",
          "model_module_version": "1.5.0",
          "state": {
            "_dom_classes": [
              "login_button"
            ],
            "_model_module": "@jupyter-widgets/controls",
            "_model_module_version": "1.5.0",
            "_model_name": "ButtonModel",
            "_view_count": null,
            "_view_module": "@jupyter-widgets/controls",
            "_view_module_version": "1.5.0",
            "_view_name": "ButtonView",
            "button_style": "",
            "description": "Login with email",
            "disabled": false,
            "icon": "",
            "layout": "IPY_MODEL_c80725db0fca444598226dc3cbc0a185",
            "style": "IPY_MODEL_b7194fe4dff4427ea319332414c4e19d",
            "tooltip": ""
          }
        },
        "34f8700da9884be2b5ab276485bb8f83": {
          "model_module": "@jupyter-widgets/controls",
          "model_name": "HTMLModel",
          "model_module_version": "1.5.0",
          "state": {
            "_dom_classes": [],
            "_model_module": "@jupyter-widgets/controls",
            "_model_module_version": "1.5.0",
            "_model_name": "HTMLModel",
            "_view_count": null,
            "_view_module": "@jupyter-widgets/controls",
            "_view_module_version": "1.5.0",
            "_view_name": "HTMLView",
            "description": "",
            "description_tooltip": null,
            "layout": "IPY_MODEL_4565c5b919994c70945a0c1c31b68e71",
            "placeholder": "​",
            "style": "IPY_MODEL_7bc63257ba1442bba8c7b8676961f59e",
            "value": "<center><big>or</big></center>"
          }
        },
        "987ab40b9a584ff4ad4eb21e3669d635": {
          "model_module": "@jupyter-widgets/controls",
          "model_name": "ButtonModel",
          "model_module_version": "1.5.0",
          "state": {
            "_dom_classes": [
              "google_button"
            ],
            "_model_module": "@jupyter-widgets/controls",
            "_model_module_version": "1.5.0",
            "_model_name": "ButtonModel",
            "_view_count": null,
            "_view_module": "@jupyter-widgets/controls",
            "_view_module_version": "1.5.0",
            "_view_name": "ButtonView",
            "button_style": "",
            "description": "Login with Google",
            "disabled": false,
            "icon": "",
            "layout": "IPY_MODEL_5b9b4a590de54c4a883f0468604cbfaf",
            "style": "IPY_MODEL_a4c5d7cef4d94bb2aecb61f25c6c2bbf",
            "tooltip": ""
          }
        },
        "0543951f2bc146dbb3f5b611ffc6d938": {
          "model_module": "@jupyter-widgets/base",
          "model_name": "LayoutModel",
          "model_module_version": "1.2.0",
          "state": {
            "_model_module": "@jupyter-widgets/base",
            "_model_module_version": "1.2.0",
            "_model_name": "LayoutModel",
            "_view_count": null,
            "_view_module": "@jupyter-widgets/base",
            "_view_module_version": "1.2.0",
            "_view_name": "LayoutView",
            "align_content": null,
            "align_items": null,
            "align_self": null,
            "border": null,
            "bottom": null,
            "display": null,
            "flex": null,
            "flex_flow": null,
            "grid_area": null,
            "grid_auto_columns": null,
            "grid_auto_flow": null,
            "grid_auto_rows": null,
            "grid_column": null,
            "grid_gap": null,
            "grid_row": null,
            "grid_template_areas": null,
            "grid_template_columns": null,
            "grid_template_rows": null,
            "height": null,
            "justify_content": null,
            "justify_items": null,
            "left": null,
            "margin": null,
            "max_height": null,
            "max_width": null,
            "min_height": null,
            "min_width": null,
            "object_fit": null,
            "object_position": null,
            "order": null,
            "overflow": null,
            "overflow_x": null,
            "overflow_y": null,
            "padding": null,
            "right": null,
            "top": null,
            "visibility": null,
            "width": null
          }
        },
        "1fefc696b5e54c75b87b996f4f81e636": {
          "model_module": "@jupyter-widgets/controls",
          "model_name": "TextModel",
          "model_module_version": "1.5.0",
          "state": {
            "_dom_classes": [],
            "_model_module": "@jupyter-widgets/controls",
            "_model_module_version": "1.5.0",
            "_model_name": "TextModel",
            "_view_count": null,
            "_view_module": "@jupyter-widgets/controls",
            "_view_module_version": "1.5.0",
            "_view_name": "TextView",
            "continuous_update": true,
            "description": "email",
            "description_tooltip": null,
            "disabled": false,
            "layout": "IPY_MODEL_624f24ae14d74bf998239fca0ed60f45",
            "placeholder": "​",
            "style": "IPY_MODEL_658ae9eca73d492b9bb1f1f9132090ed",
            "value": ""
          }
        },
        "2b83d8b06f144ed38aef38d63bed6777": {
          "model_module": "@jupyter-widgets/controls",
          "model_name": "PasswordModel",
          "model_module_version": "1.5.0",
          "state": {
            "_dom_classes": [],
            "_model_module": "@jupyter-widgets/controls",
            "_model_module_version": "1.5.0",
            "_model_name": "PasswordModel",
            "_view_count": null,
            "_view_module": "@jupyter-widgets/controls",
            "_view_module_version": "1.5.0",
            "_view_name": "PasswordView",
            "continuous_update": true,
            "description": "password",
            "description_tooltip": null,
            "disabled": false,
            "layout": "IPY_MODEL_015f14fa7d054eb8b4f22d46ce56782a",
            "placeholder": "​",
            "style": "IPY_MODEL_aa699a64379a4a0a931ff9a80c93ac41",
            "value": ""
          }
        },
        "09a457c7a1734b098adfbfce36a23ac9": {
          "model_module": "@jupyter-widgets/base",
          "model_name": "LayoutModel",
          "model_module_version": "1.2.0",
          "state": {
            "_model_module": "@jupyter-widgets/base",
            "_model_module_version": "1.2.0",
            "_model_name": "LayoutModel",
            "_view_count": null,
            "_view_module": "@jupyter-widgets/base",
            "_view_module_version": "1.2.0",
            "_view_name": "LayoutView",
            "align_content": null,
            "align_items": null,
            "align_self": null,
            "border": null,
            "bottom": null,
            "display": null,
            "flex": null,
            "flex_flow": null,
            "grid_area": null,
            "grid_auto_columns": null,
            "grid_auto_flow": null,
            "grid_auto_rows": null,
            "grid_column": null,
            "grid_gap": null,
            "grid_row": null,
            "grid_template_areas": null,
            "grid_template_columns": null,
            "grid_template_rows": null,
            "height": null,
            "justify_content": null,
            "justify_items": null,
            "left": null,
            "margin": null,
            "max_height": null,
            "max_width": null,
            "min_height": null,
            "min_width": null,
            "object_fit": null,
            "object_position": null,
            "order": null,
            "overflow": null,
            "overflow_x": null,
            "overflow_y": null,
            "padding": null,
            "right": null,
            "top": null,
            "visibility": null,
            "width": null
          }
        },
        "c80725db0fca444598226dc3cbc0a185": {
          "model_module": "@jupyter-widgets/base",
          "model_name": "LayoutModel",
          "model_module_version": "1.2.0",
          "state": {
            "_model_module": "@jupyter-widgets/base",
            "_model_module_version": "1.2.0",
            "_model_name": "LayoutModel",
            "_view_count": null,
            "_view_module": "@jupyter-widgets/base",
            "_view_module_version": "1.2.0",
            "_view_name": "LayoutView",
            "align_content": null,
            "align_items": null,
            "align_self": null,
            "border": null,
            "bottom": null,
            "display": null,
            "flex": null,
            "flex_flow": null,
            "grid_area": null,
            "grid_auto_columns": null,
            "grid_auto_flow": null,
            "grid_auto_rows": null,
            "grid_column": null,
            "grid_gap": null,
            "grid_row": null,
            "grid_template_areas": null,
            "grid_template_columns": null,
            "grid_template_rows": null,
            "height": "53px",
            "justify_content": null,
            "justify_items": null,
            "left": null,
            "margin": null,
            "max_height": null,
            "max_width": null,
            "min_height": null,
            "min_width": null,
            "object_fit": null,
            "object_position": null,
            "order": null,
            "overflow": null,
            "overflow_x": null,
            "overflow_y": null,
            "padding": null,
            "right": null,
            "top": null,
            "visibility": null,
            "width": "150px"
          }
        },
        "b7194fe4dff4427ea319332414c4e19d": {
          "model_module": "@jupyter-widgets/controls",
          "model_name": "ButtonStyleModel",
          "model_module_version": "1.5.0",
          "state": {
            "_model_module": "@jupyter-widgets/controls",
            "_model_module_version": "1.5.0",
            "_model_name": "ButtonStyleModel",
            "_view_count": null,
            "_view_module": "@jupyter-widgets/base",
            "_view_module_version": "1.2.0",
            "_view_name": "StyleView",
            "button_color": null,
            "font_weight": ""
          }
        },
        "4565c5b919994c70945a0c1c31b68e71": {
          "model_module": "@jupyter-widgets/base",
          "model_name": "LayoutModel",
          "model_module_version": "1.2.0",
          "state": {
            "_model_module": "@jupyter-widgets/base",
            "_model_module_version": "1.2.0",
            "_model_name": "LayoutModel",
            "_view_count": null,
            "_view_module": "@jupyter-widgets/base",
            "_view_module_version": "1.2.0",
            "_view_name": "LayoutView",
            "align_content": null,
            "align_items": null,
            "align_self": null,
            "border": null,
            "bottom": null,
            "display": null,
            "flex": null,
            "flex_flow": null,
            "grid_area": null,
            "grid_auto_columns": null,
            "grid_auto_flow": null,
            "grid_auto_rows": null,
            "grid_column": null,
            "grid_gap": null,
            "grid_row": null,
            "grid_template_areas": null,
            "grid_template_columns": null,
            "grid_template_rows": null,
            "height": null,
            "justify_content": null,
            "justify_items": null,
            "left": null,
            "margin": null,
            "max_height": null,
            "max_width": null,
            "min_height": null,
            "min_width": null,
            "object_fit": null,
            "object_position": null,
            "order": null,
            "overflow": null,
            "overflow_x": null,
            "overflow_y": null,
            "padding": null,
            "right": null,
            "top": null,
            "visibility": null,
            "width": "100px"
          }
        },
        "7bc63257ba1442bba8c7b8676961f59e": {
          "model_module": "@jupyter-widgets/controls",
          "model_name": "DescriptionStyleModel",
          "model_module_version": "1.5.0",
          "state": {
            "_model_module": "@jupyter-widgets/controls",
            "_model_module_version": "1.5.0",
            "_model_name": "DescriptionStyleModel",
            "_view_count": null,
            "_view_module": "@jupyter-widgets/base",
            "_view_module_version": "1.2.0",
            "_view_name": "StyleView",
            "description_width": ""
          }
        },
        "5b9b4a590de54c4a883f0468604cbfaf": {
          "model_module": "@jupyter-widgets/base",
          "model_name": "LayoutModel",
          "model_module_version": "1.2.0",
          "state": {
            "_model_module": "@jupyter-widgets/base",
            "_model_module_version": "1.2.0",
            "_model_name": "LayoutModel",
            "_view_count": null,
            "_view_module": "@jupyter-widgets/base",
            "_view_module_version": "1.2.0",
            "_view_name": "LayoutView",
            "align_content": null,
            "align_items": null,
            "align_self": null,
            "border": null,
            "bottom": null,
            "display": null,
            "flex": null,
            "flex_flow": null,
            "grid_area": null,
            "grid_auto_columns": null,
            "grid_auto_flow": null,
            "grid_auto_rows": null,
            "grid_column": null,
            "grid_gap": null,
            "grid_row": null,
            "grid_template_areas": null,
            "grid_template_columns": null,
            "grid_template_rows": null,
            "height": "53px",
            "justify_content": null,
            "justify_items": null,
            "left": null,
            "margin": null,
            "max_height": null,
            "max_width": null,
            "min_height": null,
            "min_width": null,
            "object_fit": null,
            "object_position": null,
            "order": null,
            "overflow": null,
            "overflow_x": null,
            "overflow_y": null,
            "padding": null,
            "right": null,
            "top": null,
            "visibility": null,
            "width": "200px"
          }
        },
        "a4c5d7cef4d94bb2aecb61f25c6c2bbf": {
          "model_module": "@jupyter-widgets/controls",
          "model_name": "ButtonStyleModel",
          "model_module_version": "1.5.0",
          "state": {
            "_model_module": "@jupyter-widgets/controls",
            "_model_module_version": "1.5.0",
            "_model_name": "ButtonStyleModel",
            "_view_count": null,
            "_view_module": "@jupyter-widgets/base",
            "_view_module_version": "1.2.0",
            "_view_name": "StyleView",
            "button_color": null,
            "font_weight": ""
          }
        },
        "624f24ae14d74bf998239fca0ed60f45": {
          "model_module": "@jupyter-widgets/base",
          "model_name": "LayoutModel",
          "model_module_version": "1.2.0",
          "state": {
            "_model_module": "@jupyter-widgets/base",
            "_model_module_version": "1.2.0",
            "_model_name": "LayoutModel",
            "_view_count": null,
            "_view_module": "@jupyter-widgets/base",
            "_view_module_version": "1.2.0",
            "_view_name": "LayoutView",
            "align_content": null,
            "align_items": null,
            "align_self": null,
            "border": null,
            "bottom": null,
            "display": null,
            "flex": null,
            "flex_flow": null,
            "grid_area": null,
            "grid_auto_columns": null,
            "grid_auto_flow": null,
            "grid_auto_rows": null,
            "grid_column": null,
            "grid_gap": null,
            "grid_row": null,
            "grid_template_areas": null,
            "grid_template_columns": null,
            "grid_template_rows": null,
            "height": "25px",
            "justify_content": null,
            "justify_items": null,
            "left": null,
            "margin": null,
            "max_height": null,
            "max_width": null,
            "min_height": null,
            "min_width": null,
            "object_fit": null,
            "object_position": null,
            "order": null,
            "overflow": null,
            "overflow_x": null,
            "overflow_y": null,
            "padding": null,
            "right": null,
            "top": null,
            "visibility": null,
            "width": "300px"
          }
        },
        "658ae9eca73d492b9bb1f1f9132090ed": {
          "model_module": "@jupyter-widgets/controls",
          "model_name": "DescriptionStyleModel",
          "model_module_version": "1.5.0",
          "state": {
            "_model_module": "@jupyter-widgets/controls",
            "_model_module_version": "1.5.0",
            "_model_name": "DescriptionStyleModel",
            "_view_count": null,
            "_view_module": "@jupyter-widgets/base",
            "_view_module_version": "1.2.0",
            "_view_name": "StyleView",
            "description_width": ""
          }
        },
        "015f14fa7d054eb8b4f22d46ce56782a": {
          "model_module": "@jupyter-widgets/base",
          "model_name": "LayoutModel",
          "model_module_version": "1.2.0",
          "state": {
            "_model_module": "@jupyter-widgets/base",
            "_model_module_version": "1.2.0",
            "_model_name": "LayoutModel",
            "_view_count": null,
            "_view_module": "@jupyter-widgets/base",
            "_view_module_version": "1.2.0",
            "_view_name": "LayoutView",
            "align_content": null,
            "align_items": null,
            "align_self": null,
            "border": null,
            "bottom": null,
            "display": null,
            "flex": null,
            "flex_flow": null,
            "grid_area": null,
            "grid_auto_columns": null,
            "grid_auto_flow": null,
            "grid_auto_rows": null,
            "grid_column": null,
            "grid_gap": null,
            "grid_row": null,
            "grid_template_areas": null,
            "grid_template_columns": null,
            "grid_template_rows": null,
            "height": "24px",
            "justify_content": null,
            "justify_items": null,
            "left": null,
            "margin": null,
            "max_height": null,
            "max_width": null,
            "min_height": null,
            "min_width": null,
            "object_fit": null,
            "object_position": null,
            "order": null,
            "overflow": null,
            "overflow_x": null,
            "overflow_y": null,
            "padding": null,
            "right": null,
            "top": null,
            "visibility": null,
            "width": "300px"
          }
        },
        "aa699a64379a4a0a931ff9a80c93ac41": {
          "model_module": "@jupyter-widgets/controls",
          "model_name": "DescriptionStyleModel",
          "model_module_version": "1.5.0",
          "state": {
            "_model_module": "@jupyter-widgets/controls",
            "_model_module_version": "1.5.0",
            "_model_name": "DescriptionStyleModel",
            "_view_count": null,
            "_view_module": "@jupyter-widgets/base",
            "_view_module_version": "1.2.0",
            "_view_name": "StyleView",
            "description_width": ""
          }
        }
      }
    }
  },
  "nbformat": 4,
  "nbformat_minor": 0
}